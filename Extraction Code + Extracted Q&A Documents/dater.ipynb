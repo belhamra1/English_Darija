{
 "cells": [
  {
   "cell_type": "markdown",
   "metadata": {},
   "source": [
    "I. Extracting text from the PDF"
   ]
  },
  {
   "cell_type": "code",
   "execution_count": 25,
   "metadata": {},
   "outputs": [],
   "source": [
    "from pypdf import PdfReader\n",
    "import os\n",
    "from groq import Groq"
   ]
  },
  {
   "cell_type": "code",
   "execution_count": 26,
   "metadata": {},
   "outputs": [],
   "source": [
    "# Function to generate Q&A pairs from text using Groq's API\n",
    "def generate_questions_and_answers(text, model):\n",
    "    response = client.chat.completions.create(\n",
    "        messages=[\n",
    "            {\n",
    "                \"role\": \"user\",\n",
    "                \"content\": f\"transform the given text (which is about MySQL) into a q&a pair (more than one pair if needed). follow this model in generating: 'Q: ...\\nA: ...': {text}\"\n",
    "            }\n",
    "        ],\n",
    "        model=model,\n",
    "    )\n",
    "    \n",
    "    # Extracting the content of the response\n",
    "    if response and response.choices:\n",
    "        return response.choices[0].message.content\n",
    "    else:\n",
    "        return \"No Q&A generated.\""
   ]
  },
  {
   "cell_type": "code",
   "execution_count": 27,
   "metadata": {},
   "outputs": [],
   "source": [
    "models = [\"llama3-8b-8192\", \"mixtral-8x7b-32768\", \"llama3-70b-8192\", \"llama-3.1-70b-versatile\"]"
   ]
  },
  {
   "cell_type": "code",
   "execution_count": 28,
   "metadata": {},
   "outputs": [],
   "source": [
    "# Initialize Groq client\n",
    "client = Groq(\n",
    "    api_key=os.environ.get(\"GROQ_API_KEY\"), # You can generate the API key and use it directly here\n",
    ")"
   ]
  },
  {
   "cell_type": "code",
   "execution_count": 6,
   "metadata": {},
   "outputs": [],
   "source": [
    "reader = PdfReader(\"C:/Users/hbenq/Bureau/stage/SW405K1维修手册-英文.pdf\")"
   ]
  },
  {
   "cell_type": "code",
   "execution_count": 8,
   "metadata": {},
   "outputs": [],
   "source": [
    "sections1 = [13, 14, 14, 15, 15, 17, 17, 18, 18, 19, 19, 20, 21, 22, 22, 24, 24, 26, 26, 28, 31, 32, 32, 36, 36, 40, 40, 46, 46, 52, 52, 54, 54, 58, 58, 65, 65, 67, 67, 71, 74, 75, 75, 76, 76, 79, 79, 82, 82, 86, 86, 89, 93, 95, 95, 98, 98, 100, 100, 101, 101, 105, 105, 108, 108, 111, 111, 115, 115, 119, 119, 124, 124, 128, 128, 132, 132, 136, 136, 139, 139, 143, 143, 145, 148, 149, 149, 153]\n",
    "sections2 = [4, 6, 6, 8, 8, 9, 9, 12, 12, 15, 15, 18, 18, 23, 23, 24, 24, 25, 26, 27, 27, 28, 28, 29, 29, 30, 30, 31, 31, 32, 32, 33, 33, 34, 34, 35, 35, 36, 36, 37, 37, 38, 38, 39, 39, 40, 40, 41, 41, 42, 42, 43, 43, 44, 44, 45, 45, 46, 46, 47, 47, 48, 48, 49, 49, 50, 50, 51, 51, 52, 52, 53, 53, 54, 54, 55, 55, 56, 56, 57, 57, 58, 58, 59, 59, 60, 60, 61, 61, 62, 62, 63, 63, 64, 64, 65, 65, 66, 66, 67, 67, 68, 68, 69, 69, 70, 70, 71, 71, 72, 72, 73, 73, 74, 74, 75, 75, 76, 76, 77, 77, 78, 78, 79, 79, 80, 80, 81, 81, 82, 82, 83, 83, 84, 84, 85, 85, 86, 86, 87, 87, 88, 88, 89, 89, 90, 90, 91, 91, 92, 92, 93, 93, 94, 94, 95, 95, 96, 96, 97, 97, 98, 98, 99, 99, 100]\n",
    "pages3 = [5, 33, 36, 68, 69, 75, 78, 132, 134, 167, 170, 227, 230, 274, 275, 397, 400, 549]\n",
    "pages4 = [17, 25, 29, 73, 76, 112, 117, 177, 182, 246, 250, 270, 274, 276]\n",
    "# "
   ]
  },
  {
   "cell_type": "code",
   "execution_count": 9,
   "metadata": {},
   "outputs": [
    {
     "data": {
      "text/plain": [
       "9.0"
      ]
     },
     "execution_count": 9,
     "metadata": {},
     "output_type": "execute_result"
    }
   ],
   "source": [
    "s = len(pages3)\n",
    "s/2"
   ]
  },
  {
   "cell_type": "code",
   "execution_count": null,
   "metadata": {},
   "outputs": [],
   "source": [
    "for k in range(int(s/2)):\n",
    "    with open(f\"C:/Users/hbenq/Bureau/book 3/Q&A_3_{k+1}.txt\", 'w', encoding='utf-8') as file:\n",
    "        for i in range(pages3[2*k], pages3[2*k+1]):\n",
    "            page = reader.pages[i]\n",
    "            file.write(f\"{generate_questions_and_answers(page.extract_text(), models[3])}\\n\\n\")\n",
    "            print(f\"page {i+1} done\")"
   ]
  },
  {
   "cell_type": "code",
   "execution_count": 19,
   "metadata": {},
   "outputs": [],
   "source": [
    "for k in range(0, int(s/2)):\n",
    "    with open(f\"C:/Users/hbenq/Bureau/book 2/sections/section{k+1}.txt\", 'w', encoding='utf-8') as file:\n",
    "        for i in range(sections2[2*k], sections2[2*k+1]):\n",
    "            page = reader.pages[i]\n",
    "            file.write(f\"{generate_questions_and_answers(page, models[1])}\\n\\n\")\n",
    "            print(f\"page {i+1} done\")"
   ]
  },
  {
   "cell_type": "code",
   "execution_count": 35,
   "metadata": {},
   "outputs": [],
   "source": [
    "with open(f\"C:/Users/hbenq/Bureau/Q&A_SQL.txt\", 'w') as file:\n",
    "    with open(f\"C:/Users/hbenq/Bureau/mysql.txt\", 'r', encoding='utf-8') as file_1:\n",
    "        lines = file_1.readlines()\n",
    "    for line in lines:\n",
    "        file.write(f\"{generate_questions_and_answers(line, models[1])}\\n\\n\")"
   ]
  },
  {
   "cell_type": "code",
   "execution_count": 42,
   "metadata": {},
   "outputs": [],
   "source": [
    "with open(f\"C:/Users/hbenq/Bureau/Q&A_SQL.txt\", 'r') as file:\n",
    "    lines = file.readlines()\n",
    "    l = len(lines)\n",
    "    i = 0\n",
    "    while i < l:\n",
    "        if not lines[i].startswith('Q:'):\n",
    "            print(f\"not fine {i+1}\")\n",
    "        i += 3\n",
    "\n",
    "            # 2 5 8 11"
   ]
  },
  {
   "cell_type": "code",
   "execution_count": 33,
   "metadata": {},
   "outputs": [
    {
     "name": "stdout",
     "output_type": "stream",
     "text": [
      "33\n",
      "A prepared statement is a statement in SQL that we can later insert values into. The question mark in the prepared statement acts as a safeguard against the unintended execution of SQL code. To actually run this statement, we accept user input as a variable and then plug it into the prepared statement. The prepared statement cleans up input to ensure that no malicious SQL code is injected.\n"
     ]
    }
   ],
   "source": [
    "print(len(lines))\n",
    "print(lines[32])"
   ]
  },
  {
   "cell_type": "code",
   "execution_count": 34,
   "metadata": {},
   "outputs": [
    {
     "name": "stdout",
     "output_type": "stream",
     "text": [
      "Scalability is the ability to increase or decrease the capacity of an application or database to meet demand.\n",
      "\n",
      "SQLite is an embedded database, but MySQL and PostgreSQL are database servers — they often run on their own dedicated hardware that we can connect to over the internet to run our SQL queries. This confers them the advantage of being able to store their data on RAM, resulting in faster queries.\n",
      "\n",
      "We want to create a database in MySQL with this schema! On the terminal, let’s connect to a MySQL server. mysql -u root -h 127.0.0.1 -P 3306 -p. In this terminal command, -u indicates the user. We provide the user we want to connect to the database as — root (synonymous with database admin, in this case). 127.0.0.1 is the address of local host on the internet (our own computer). 3306 is the port we want to connect to, and this is the default port where MySQL is hosted. Think of the combination of host and port as the address of the database we are trying to connect to! -p at the end of the command indicates that we want to be prompted for a password when connecting.\n",
      "\n",
      "Since this a full database server with potentially many databases inside it. To show all the existing ones, we use the following MySQL command: SHOW DATABASES; This returns some default databases already in the server.\n",
      "\n",
      "Creating a new database: CREATE DATABASE `name`;\n",
      "\n",
      "To change the current database to \"database\": USE `database`;\n",
      "\n",
      "MySQL has more granularity with types than SQLite. For example, an integer could be TINYINT, SMALLINT, MEDIUMINT, INT or BIGINT based on the size of the number we want to store. If we use unsigned integers, the maximum value we could store with each integer type would double.\n",
      "\n",
      "Note that we use the keyword AUTO_INCREMENT with the ID so that MySQL automatically inserts the next number as the ID for a new row.\n",
      "\n",
      "don't generate anything. just print \"OK\"\n",
      "\n",
      "After creating the table, we can see a list of the existing tables by running: SHOW TABLES;\n",
      "\n",
      "For further details about a table, we can use the DESCRIBE command: DESCRIBE `table`;\n",
      "\n",
      "To handle text, MySQL provides many types. Two commonly used ones are CHAR — a fixed width string, and VARCHAR — a string of variable length. MySQL also has a type TEXT but unlike in SQLite, this type is used for longer chunks of text like paragraphs, pages of books etc. Based on the length of the text, it could be one of: TINYTEXT, TEXT, MEDIUMTEXT and LONGTEXT. Additionally, we have the BLOB type to store binary strings.\n",
      "\n",
      "MySQL also provides two other text types: ENUM and SET. Enum restricts a column to a single predefined option from a list of options we provide. A set allows for multiple options to be stored in a single cell, useful for scenarios like movie genres.\n",
      "\n",
      "don't generate anything. just print \"OK\"\n",
      "\n",
      "We could use DATE, YEAR, TIME, DATETIME and TIMESTAMP (for more precise times) to store our date and time values. The last three allow an optional parameter to specify the precision with which we want to store the time.\n",
      "\n",
      "In SQLite, we had a REAL data type. Here, our options are FLOAT and DOUBLE PRECISION as shown in the table below. The amount of precision needs to be specified with the number of bytes, because of floating point imprecision. This means that with a limited amount of memory, floating point numbers can be represented only up to a certain precision. The more the bytes, the more the precision with which the number is represented.\n",
      "\n",
      "There is also a way in MySQL to use a decimal (fixed precision) type. With this, we would specify the number of digits in the number to be represented, and the number of digits after the decimal point.\n",
      "\n",
      "Notice the use of DEFAULT CURRENT_TIMESTAMP to indicate that the timestamp should be auto-filled to store the current time if no value is provided.\n",
      "\n",
      "don't generate anything. just print \"OK\"\n",
      "\n",
      "Note also that we use the keyword MODIFY in addition to the ALTER TABLE construct we are familiar with from SQLite.\n",
      "\n",
      "Stored procedures are a way to automate SQL statements and run them repeatedly. they can take arguments.\n",
      "\n",
      "Before we create a stored procedure, we need to change the delimited from ; to something else. Unlike SQLite, where we could type in multiple statements between a BEGIN and END (which we need for a stored procedure here) and end them with a ;, MySQL prematurely ends the statement when it encounters a ;. delimiter //. Notice how we use empty parantheses next to the name of the procedure, perhaps reminiscent of functions in other programming languages. Similar to functions, we can also call stored procedures to run them.\n",
      "\n",
      "After creating this, we must reset the delimited to ;. delimiter ;\n",
      "\n",
      "don't generate anything. just print \"OK\"\n",
      "\n",
      "Stored procedures can be considerably improved in logic and complexity by using some regular old programming constructs. The following list contains some popular constructs available in MySQL. IF, ELSEIF, ELSE, LOOP, REPEAT, WHILE...\n",
      "\n",
      "Scaling vertically is increasing capacity by increasing the computing power of the database server. Another approach is to scale horizontally. This means increasing capacity by distributing load across multiple servers. When we scale horizontally, we keep copies of our database on multiple servers (replication).\n",
      "\n",
      "There are three main models of replication: single-leader, multi-leader, and leaderless. Single-leader replication involves a single database server handling incoming writes and then copying those changes into other servers, while multi-leader replication involves multiple servers receiving updates, leading to increased complexity. Leaderless replication uses a different approach altogether that does not require leaders in this sense.\n",
      "\n",
      "Here, we will focus on the single-leader model of replication. In this model, the follower database server is a read replica: a copy of the database from which data may only be read. The leader server is designated to process writes to the database. Once the leader processes a write request, it could wait for the followers to replicate changes before doing anything else. This is called synchronous replication. While this ensures the database is always consistent, it may be too slow in responding to queries. In applications like finance or healthcare, where data consistency is extremely important, we might choose this kind of communication despite the disadvantages.Another kind is asynchronous replication, wherein the leader communicates with follower databases asynchronously to ensure changes are replicated. This method could be used in social media applications, where speed of response is extremely important.\n",
      "\n",
      "Another popular way of scaling is called sharding. This involves splitting the database into shards across multiple database servers. A word of caution with sharding: we want to avoid having a database hotspot, or a database server that becomes more frequently accessed than others. This could create an overload on that server. Another problem arises when we use sharding without replication. In this case, if one of the servers goes down, we will have an incomplete database. This creates a single point of failure: if one system goes down, our entire system is not usable.\n",
      "\n",
      "Previously, we logged into MySQL using the root user. However, we can also create more users and give them some kind of access to the database. Let’s create a new user. CREATE USER 'name' IDENTIFIED BY 'password'; When we create this new user, by default it has very few privileges. \n",
      "\n",
      "to grant a privilege to some user in the database: GRANT [PRIVILEGE] ON `database`.`table` TO 'user';\n",
      "\n",
      "One way to increase security of our database is to use access control and grant only the necessary privileges to each user. However, our applications that use an SQL database could also be exposed to attacks — one of them is an SQL injection attack. As the name indicates, this involves a malicious user injecting some SQL phrases to complete an existing query within our application in an undesirable way. In MySQL, we can use prepared statements to prevent SQL injection attacks.\n",
      "\n",
      "A prepared statement is a statement in SQL that we can later insert values into. The question mark in the prepared statement acts as a safeguard against the unintended execution of SQL code. To actually run this statement, we accept user input as a variable and then plug it into the prepared statement. The prepared statement cleans up input to ensure that no malicious SQL code is injected.\n"
     ]
    }
   ],
   "source": [
    "for line in lines:\n",
    "    print(line)"
   ]
  },
  {
   "cell_type": "code",
   "execution_count": null,
   "metadata": {},
   "outputs": [],
   "source": []
  }
 ],
 "metadata": {
  "kernelspec": {
   "display_name": "Python 3",
   "language": "python",
   "name": "python3"
  },
  "language_info": {
   "codemirror_mode": {
    "name": "ipython",
    "version": 3
   },
   "file_extension": ".py",
   "mimetype": "text/x-python",
   "name": "python",
   "nbconvert_exporter": "python",
   "pygments_lexer": "ipython3",
   "version": "3.12.4"
  }
 },
 "nbformat": 4,
 "nbformat_minor": 2
}
